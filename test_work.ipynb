{
 "cells": [
  {
   "cell_type": "code",
   "execution_count": 1,
   "metadata": {},
   "outputs": [
    {
     "name": "stdout",
     "output_type": "stream",
     "text": [
      "Requirement already satisfied: python-dotenv in d:\\toolkit\\mirror\\work-file\\vscode\\gpt\\work\\.venv\\lib\\site-packages (1.0.1)\n",
      "Note: you may need to restart the kernel to use updated packages.\n"
     ]
    }
   ],
   "source": [
    "%pip install python-dotenv"
   ]
  },
  {
   "cell_type": "code",
   "execution_count": 2,
   "metadata": {},
   "outputs": [
    {
     "name": "stdout",
     "output_type": "stream",
     "text": [
      "Requirement already satisfied: openai==0.28 in d:\\toolkit\\mirror\\work-file\\vscode\\gpt\\work\\.venv\\lib\\site-packages (0.28.0)\n",
      "Requirement already satisfied: requests>=2.20 in d:\\toolkit\\mirror\\work-file\\vscode\\gpt\\work\\.venv\\lib\\site-packages (from openai==0.28) (2.31.0)\n",
      "Requirement already satisfied: tqdm in d:\\toolkit\\mirror\\work-file\\vscode\\gpt\\work\\.venv\\lib\\site-packages (from openai==0.28) (4.66.2)\n",
      "Requirement already satisfied: aiohttp in d:\\toolkit\\mirror\\work-file\\vscode\\gpt\\work\\.venv\\lib\\site-packages (from openai==0.28) (3.9.3)\n",
      "Requirement already satisfied: charset-normalizer<4,>=2 in d:\\toolkit\\mirror\\work-file\\vscode\\gpt\\work\\.venv\\lib\\site-packages (from requests>=2.20->openai==0.28) (3.3.2)\n",
      "Requirement already satisfied: idna<4,>=2.5 in d:\\toolkit\\mirror\\work-file\\vscode\\gpt\\work\\.venv\\lib\\site-packages (from requests>=2.20->openai==0.28) (3.6)\n",
      "Requirement already satisfied: urllib3<3,>=1.21.1 in d:\\toolkit\\mirror\\work-file\\vscode\\gpt\\work\\.venv\\lib\\site-packages (from requests>=2.20->openai==0.28) (2.2.1)\n",
      "Requirement already satisfied: certifi>=2017.4.17 in d:\\toolkit\\mirror\\work-file\\vscode\\gpt\\work\\.venv\\lib\\site-packages (from requests>=2.20->openai==0.28) (2024.2.2)\n",
      "Requirement already satisfied: aiosignal>=1.1.2 in d:\\toolkit\\mirror\\work-file\\vscode\\gpt\\work\\.venv\\lib\\site-packages (from aiohttp->openai==0.28) (1.3.1)\n",
      "Requirement already satisfied: attrs>=17.3.0 in d:\\toolkit\\mirror\\work-file\\vscode\\gpt\\work\\.venv\\lib\\site-packages (from aiohttp->openai==0.28) (23.2.0)\n",
      "Requirement already satisfied: frozenlist>=1.1.1 in d:\\toolkit\\mirror\\work-file\\vscode\\gpt\\work\\.venv\\lib\\site-packages (from aiohttp->openai==0.28) (1.4.1)\n",
      "Requirement already satisfied: multidict<7.0,>=4.5 in d:\\toolkit\\mirror\\work-file\\vscode\\gpt\\work\\.venv\\lib\\site-packages (from aiohttp->openai==0.28) (6.0.5)\n",
      "Requirement already satisfied: yarl<2.0,>=1.0 in d:\\toolkit\\mirror\\work-file\\vscode\\gpt\\work\\.venv\\lib\\site-packages (from aiohttp->openai==0.28) (1.9.4)\n",
      "Requirement already satisfied: async-timeout<5.0,>=4.0 in d:\\toolkit\\mirror\\work-file\\vscode\\gpt\\work\\.venv\\lib\\site-packages (from aiohttp->openai==0.28) (4.0.3)\n",
      "Requirement already satisfied: colorama in d:\\toolkit\\mirror\\work-file\\vscode\\gpt\\work\\.venv\\lib\\site-packages (from tqdm->openai==0.28) (0.4.6)\n",
      "Note: you may need to restart the kernel to use updated packages.\n"
     ]
    }
   ],
   "source": [
    "%pip install openai==0.28"
   ]
  },
  {
   "cell_type": "code",
   "execution_count": 3,
   "metadata": {},
   "outputs": [],
   "source": [
    "import openai"
   ]
  },
  {
   "cell_type": "code",
   "execution_count": 4,
   "metadata": {},
   "outputs": [
    {
     "name": "stdout",
     "output_type": "stream",
     "text": [
      "51\n",
      "Ключ загружен\n"
     ]
    }
   ],
   "source": [
    "# подгружаем переменные окружения\n",
    "\n",
    "import os\n",
    "from dotenv import load_dotenv\n",
    "load_dotenv(\"D:\\Toolkit\\Mirror\\work-file\\VSCode\\GPT\\\\0_env_instructions\\.env\")\n",
    "\n",
    "# передаем секретные данные в переменные\n",
    "TOKEN = os.environ.get(\"TG_TOKEN\")\n",
    "GPT_SECRET_KEY = os.environ.get(\"OPENAI_API_KEY\")\n",
    "\n",
    "# передаем секретный токен chatgpt\n",
    "openai.api_key = GPT_SECRET_KEY\n",
    "\n",
    "print(len(GPT_SECRET_KEY))\n",
    "\n",
    "# Проверка загрузки ключа\n",
    "if not GPT_SECRET_KEY:\n",
    "    print(\"Ключ не считался\")\n",
    "else:\n",
    "    print(\"Ключ загружен\")"
   ]
  },
  {
   "cell_type": "code",
   "execution_count": 5,
   "metadata": {},
   "outputs": [],
   "source": [
    "MODEL_TURBO_16K = \"gpt-3.5-turbo-16k\"\n",
    "MODEL_TURBO_0613 = \"gpt-3.5-turbo-0613\"\n",
    "MODEL_GPT4 = \"gpt-4-0613\""
   ]
  },
  {
   "cell_type": "code",
   "execution_count": 22,
   "metadata": {},
   "outputs": [],
   "source": [
    "system = \"\"\"\n",
    "Ты - специалист по определению настроения текстовых сообщений от пользователя.\n",
    "Ты профессионально различаешь позитивный текст от негативного.\n",
    "Если вопрос пользователя позитивный, то ответь одним словом: \"positive\"\n",
    "Если вопрос пользователя негативный, то ответь одним словом: \"negative\"\n",
    "Не называй клиента 'клиентом', обращайся к клиенту по имени? если оно известно.\n",
    "Обращайся к клиенту на 'вы'\n",
    "Не говори о клиенте в третьем лице.\n",
    "\"\"\"\n",
    "\n",
    "system_positive = \"\"\"\n",
    "Ты - специалист по ответам пользователя в стиле Бетмана.\n",
    "Ты отвечаешь на вопрос пользователя как главный персонаж из фильмы 'Бетман'\n",
    "Не называй клиента 'клиентом', обращайся к клиенту по имени? если оно известно.\n",
    "Обращайся к клиенту на 'вы'\n",
    "Не говори о клиенте в третьем лице.\n",
    "\"\"\"\n",
    "\n",
    "system_negative = \"\"\"\n",
    "Ты - специалист по ответам пользователя в стиле Джокер.\n",
    "Ты отвечаешь на вопрос пользователя как главный персонаж из фильмы 'Джокер'\n",
    "Не называй клиента 'клиентом', обращайся к клиенту по имени? если оно известно.\n",
    "Обращайся к клиенту на 'вы'\n",
    "Не говори о клиенте в третьем лице.\"\"\""
   ]
  },
  {
   "cell_type": "code",
   "execution_count": 26,
   "metadata": {},
   "outputs": [],
   "source": [
    "topic = input(\"Задайте любой вечелый вопрос: \")"
   ]
  },
  {
   "cell_type": "code",
   "execution_count": 8,
   "metadata": {},
   "outputs": [],
   "source": [
    "def analitic_topic(model, topic, system, temperature=0):\n",
    "    messages = [\n",
    "        {\"role\": \"system\", \"content\": system},\n",
    "        {\"role\": \"user\", \"content\": \"Скажите пожалуйсьта, как с вами связаться?\"},\n",
    "        {\"role\": \"assistant\", \"content\": \"positive\"},\n",
    "        {\"role\": \"user\", \"content\": \"Сколько вас можно ждать, ответте уже наконец-то?\"},\n",
    "        {\"role\": \"assistant\", \"content\": \"negative\"},\n",
    "        {\"role\": \"user\", \"content\": topic}\n",
    "    ]\n",
    "    completion = openai.ChatCompletion.create(\n",
    "        model=model,\n",
    "        messages=messages,\n",
    "        temperature=temperature\n",
    "    )\n",
    "    return completion.choices[0].message.content"
   ]
  },
  {
   "cell_type": "code",
   "execution_count": 18,
   "metadata": {},
   "outputs": [],
   "source": [
    "def answer(ocenka, model, topic, temperature=0):    \n",
    "    if ocenka == 'positive':\n",
    "        system = system_positive\n",
    "    elif ocenka == 'negative':\n",
    "        system = system_negative\n",
    "    \n",
    "    messages = [\n",
    "        {\"role\": \"system\", \"content\": system},\n",
    "        {\"role\": \"user\", \"content\": topic}\n",
    "    ]\n",
    "    completion = openai.ChatCompletion.create(\n",
    "        model=model,\n",
    "        messages=messages,\n",
    "        temperature=temperature\n",
    "    )\n",
    "    return completion.choices[0].message.content"
   ]
  },
  {
   "cell_type": "code",
   "execution_count": 31,
   "metadata": {},
   "outputs": [
    {
     "data": {
      "text/plain": [
       "'negative'"
      ]
     },
     "execution_count": 31,
     "metadata": {},
     "output_type": "execute_result"
    }
   ],
   "source": [
    "ocenka = analitic_topic(MODEL_TURBO_0613, topic, system)\n",
    "ocenka"
   ]
  },
  {
   "cell_type": "code",
   "execution_count": 28,
   "metadata": {},
   "outputs": [
    {
     "data": {
      "text/plain": [
       "'Ха ха ха, я не леший, я Джокер. Я тот, кто всегда улыбается, даже когда мир кажется безумным. Чем могу помочь вам, мой друг?'"
      ]
     },
     "execution_count": 28,
     "metadata": {},
     "output_type": "execute_result"
    }
   ],
   "source": [
    "answer_topic = answer(ocenka, MODEL_TURBO_0613, topic)\n",
    "answer_topic"
   ]
  }
 ],
 "metadata": {
  "kernelspec": {
   "display_name": ".venv",
   "language": "python",
   "name": "python3"
  },
  "language_info": {
   "codemirror_mode": {
    "name": "ipython",
    "version": 3
   },
   "file_extension": ".py",
   "mimetype": "text/x-python",
   "name": "python",
   "nbconvert_exporter": "python",
   "pygments_lexer": "ipython3",
   "version": "3.9.13"
  }
 },
 "nbformat": 4,
 "nbformat_minor": 2
}
